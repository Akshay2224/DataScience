{
  "nbformat": 4,
  "nbformat_minor": 0,
  "metadata": {
    "colab": {
      "provenance": [],
      "authorship_tag": "ABX9TyOxE15BDZ9VwRKIPkaJG1YS",
      "include_colab_link": true
    },
    "kernelspec": {
      "name": "python3",
      "display_name": "Python 3"
    },
    "language_info": {
      "name": "python"
    }
  },
  "cells": [
    {
      "cell_type": "markdown",
      "metadata": {
        "id": "view-in-github",
        "colab_type": "text"
      },
      "source": [
        "<a href=\"https://colab.research.google.com/github/Akshay2224/DataScience/blob/master/Weather_Forecast_using_Open_Weather.ipynb\" target=\"_parent\"><img src=\"https://colab.research.google.com/assets/colab-badge.svg\" alt=\"Open In Colab\"/></a>"
      ]
    },
    {
      "cell_type": "code",
      "source": [
        "import requests\n",
        "city = input()\n",
        "api_key = '5dd12427f0de3aebe2071602757e9961'\n",
        "response = requests.get(f\"https://api.openweathermap.org/data/2.5/forecast?q={city}&mode=json&appid={api_key}\")\n",
        "data = response.json()\n",
        "for dt in data['list']:\n",
        "  for forcast in dt['weather']:\n",
        "    print('Weather forecast for ' ,city, ' at time ', dt['dt_txt'], ':',forcast['description'])"
      ],
      "metadata": {
        "colab": {
          "base_uri": "https://localhost:8080/"
        },
        "id": "gn12lWMPOZ5H",
        "outputId": "84ad07a8-830d-4c51-d267-60a0455ad46b"
      },
      "execution_count": 52,
      "outputs": [
        {
          "output_type": "stream",
          "name": "stdout",
          "text": [
            "Shimla\n",
            "Weather forcast for  Shimla  at time  2023-06-24 09:00:00 : light rain\n",
            "Weather forcast for  Shimla  at time  2023-06-24 12:00:00 : moderate rain\n",
            "Weather forcast for  Shimla  at time  2023-06-24 15:00:00 : light rain\n",
            "Weather forcast for  Shimla  at time  2023-06-24 18:00:00 : broken clouds\n",
            "Weather forcast for  Shimla  at time  2023-06-24 21:00:00 : light rain\n",
            "Weather forcast for  Shimla  at time  2023-06-25 00:00:00 : moderate rain\n",
            "Weather forcast for  Shimla  at time  2023-06-25 03:00:00 : moderate rain\n",
            "Weather forcast for  Shimla  at time  2023-06-25 06:00:00 : light rain\n",
            "Weather forcast for  Shimla  at time  2023-06-25 09:00:00 : moderate rain\n",
            "Weather forcast for  Shimla  at time  2023-06-25 12:00:00 : light rain\n",
            "Weather forcast for  Shimla  at time  2023-06-25 15:00:00 : moderate rain\n",
            "Weather forcast for  Shimla  at time  2023-06-25 18:00:00 : moderate rain\n",
            "Weather forcast for  Shimla  at time  2023-06-25 21:00:00 : moderate rain\n",
            "Weather forcast for  Shimla  at time  2023-06-26 00:00:00 : moderate rain\n",
            "Weather forcast for  Shimla  at time  2023-06-26 03:00:00 : moderate rain\n",
            "Weather forcast for  Shimla  at time  2023-06-26 06:00:00 : moderate rain\n",
            "Weather forcast for  Shimla  at time  2023-06-26 09:00:00 : moderate rain\n",
            "Weather forcast for  Shimla  at time  2023-06-26 12:00:00 : light rain\n",
            "Weather forcast for  Shimla  at time  2023-06-26 15:00:00 : light rain\n",
            "Weather forcast for  Shimla  at time  2023-06-26 18:00:00 : light rain\n",
            "Weather forcast for  Shimla  at time  2023-06-26 21:00:00 : light rain\n",
            "Weather forcast for  Shimla  at time  2023-06-27 00:00:00 : moderate rain\n",
            "Weather forcast for  Shimla  at time  2023-06-27 03:00:00 : moderate rain\n",
            "Weather forcast for  Shimla  at time  2023-06-27 06:00:00 : light rain\n",
            "Weather forcast for  Shimla  at time  2023-06-27 09:00:00 : moderate rain\n",
            "Weather forcast for  Shimla  at time  2023-06-27 12:00:00 : moderate rain\n",
            "Weather forcast for  Shimla  at time  2023-06-27 15:00:00 : moderate rain\n",
            "Weather forcast for  Shimla  at time  2023-06-27 18:00:00 : light rain\n",
            "Weather forcast for  Shimla  at time  2023-06-27 21:00:00 : moderate rain\n",
            "Weather forcast for  Shimla  at time  2023-06-28 00:00:00 : light rain\n",
            "Weather forcast for  Shimla  at time  2023-06-28 03:00:00 : light rain\n",
            "Weather forcast for  Shimla  at time  2023-06-28 06:00:00 : moderate rain\n",
            "Weather forcast for  Shimla  at time  2023-06-28 09:00:00 : moderate rain\n",
            "Weather forcast for  Shimla  at time  2023-06-28 12:00:00 : moderate rain\n",
            "Weather forcast for  Shimla  at time  2023-06-28 15:00:00 : light rain\n",
            "Weather forcast for  Shimla  at time  2023-06-28 18:00:00 : scattered clouds\n",
            "Weather forcast for  Shimla  at time  2023-06-28 21:00:00 : light rain\n",
            "Weather forcast for  Shimla  at time  2023-06-29 00:00:00 : light rain\n",
            "Weather forcast for  Shimla  at time  2023-06-29 03:00:00 : light rain\n",
            "Weather forcast for  Shimla  at time  2023-06-29 06:00:00 : moderate rain\n"
          ]
        }
      ]
    }
  ]
}